{
 "cells": [
  {
   "cell_type": "code",
   "execution_count": 2,
   "metadata": {},
   "outputs": [
    {
     "name": "stdout",
     "output_type": "stream",
     "text": [
      "   userId  movieId  rating  timestamp\n",
      "0       1        1     4.0  964982703\n",
      "1       1        3     4.0  964981247\n",
      "2       1        6     4.0  964982224\n",
      "3       1       47     5.0  964983815\n",
      "4       1       50     5.0  964982931\n",
      "   movieId                               title  \\\n",
      "0        1                    Toy Story (1995)   \n",
      "1        2                      Jumanji (1995)   \n",
      "2        3             Grumpier Old Men (1995)   \n",
      "3        4            Waiting to Exhale (1995)   \n",
      "4        5  Father of the Bride Part II (1995)   \n",
      "\n",
      "                                        genres  \n",
      "0  Adventure|Animation|Children|Comedy|Fantasy  \n",
      "1                   Adventure|Children|Fantasy  \n",
      "2                               Comedy|Romance  \n",
      "3                         Comedy|Drama|Romance  \n",
      "4                                       Comedy  \n"
     ]
    }
   ],
   "source": [
    "import numpy as np\n",
    "import pandas as pd\n",
    "ratings_csv=pd.read_csv(\"ratings.csv\")\n",
    "print(ratings_csv.head())\n",
    "movies=pd.read_csv(\"movies.csv\")\n",
    "print(movies.head())"
   ]
  },
  {
   "cell_type": "code",
   "execution_count": 3,
   "metadata": {},
   "outputs": [
    {
     "name": "stdout",
     "output_type": "stream",
     "text": [
      "9742\n"
     ]
    }
   ],
   "source": [
    "num_of_movies=len(movies['movieId'])\n",
    "print(num_of_movies)"
   ]
  },
  {
   "cell_type": "code",
   "execution_count": 4,
   "metadata": {},
   "outputs": [
    {
     "name": "stdout",
     "output_type": "stream",
     "text": [
      "610\n"
     ]
    }
   ],
   "source": [
    "#rating_dic is dictionary of userid to rated movies\n",
    "userIds=ratings_csv['userId']\n",
    "movieIds=ratings_csv['movieId']\n",
    "ratings=ratings_csv['rating']\n",
    "rating_dic={}\n",
    "for i in range(len(movieIds)):\n",
    "    idx=userIds[i]\n",
    "    if idx not in rating_dic:\n",
    "        rating_dic[idx]={}\n",
    "    rating_dic[idx][movieIds[i]]=ratings[i]\n",
    "\n",
    "num_of_users=len(rating_dic)\n",
    "print(num_of_users)\n",
    "        \n",
    "    "
   ]
  },
  {
   "cell_type": "code",
   "execution_count": 5,
   "metadata": {},
   "outputs": [
    {
     "name": "stdout",
     "output_type": "stream",
     "text": [
      "0.9185586535436888\n",
      "0.9957385837170336\n"
     ]
    }
   ],
   "source": [
    "from math import sqrt\n",
    "def sim_pearson(prefs,p1,p2):\n",
    "\n",
    "    si={}\n",
    "    for item in prefs[p1]:\n",
    "        if item in prefs[p2]: \n",
    "            si[item]=1\n",
    "\n",
    "    n=len(si)\n",
    "    # if they are no ratings in common, return 0\n",
    "    if n==0: return 0\n",
    "\n",
    "    sum1=sum([prefs[p1][it] for it in si])\n",
    "    sum2=sum([prefs[p2][it] for it in si])\n",
    "\n",
    "    sum1Sq=sum([pow(prefs[p1][it],2) for it in si])\n",
    "    sum2Sq=sum([pow(prefs[p2][it],2) for it in si])\n",
    "    \n",
    "    pSum=sum([prefs[p1][it]*prefs[p2][it] for it in si])\n",
    "    # Calculate Pearson score\n",
    "    num=pSum-(sum1*sum2/n)\n",
    "    den=sqrt((sum1Sq-pow(sum1,2)/n)*(sum2Sq-pow(sum2,2)/n))\n",
    "    if den==0: return 0\n",
    "    r=num/den\n",
    "    return r\n",
    "def sim_cosine(prefs,p1,p2):\n",
    "    si={}\n",
    "    for item in prefs[p1]:\n",
    "        if item in prefs[p2]: \n",
    "            si[item]=1\n",
    "\n",
    "    n=len(si)\n",
    "    # if they are no ratings in common, return 0\n",
    "    if n==0: return 0\n",
    "    v=[[prefs[p1][it],prefs[p2][it]] for it in si]\n",
    "    v1=[v[i][0] for i in range(len(v))]\n",
    "    v2=[v[i][1] for i in range(len(v))]\n",
    "    dot=sum([v1[i]*v2[i] for i in range(len(v))])\n",
    "    norm_prod=sqrt(sum([v1[i]**2 for i in range(len(v))])*sum([v2[i]**2 for i in range(len(v))]))\n",
    "    return dot/norm_prod\n",
    "print(sim_pearson(rating_dic,1,9))\n",
    "print(sim_cosine(rating_dic,1,9))"
   ]
  },
  {
   "cell_type": "code",
   "execution_count": 6,
   "metadata": {},
   "outputs": [
    {
     "name": "stdout",
     "output_type": "stream",
     "text": [
      "movies recommended for user 1 by pearson score are:\n",
      " [['4.964155252569405' 'Breaking Away (1979)']\n",
      " ['4.924833341228152' 'How the Grinch Stole Christmas! (1966)']\n",
      " ['4.910022746571027' 'Shooting Dogs (a.k.a. Beyond the Gates) (2005)']\n",
      " ['4.909769656306572' \"We're No Angels (1989)\"]\n",
      " ['4.861959798883314' 'Secretary (2002)']\n",
      " ['4.8433562735823426' 'Blow (2001)']\n",
      " ['4.7889449088176725' 'White Ribbon, The (Das weiße Band) (2009)']\n",
      " ['4.76236771827461' 'Mirror Has Two Faces, The (1996)']\n",
      " ['4.755912013559737' 'Glitter (2001)']\n",
      " ['4.739976156088092' 'Vampire in Brooklyn (1995)']]\n",
      "\n",
      "\n",
      "\n",
      "movies recommended for user 1 by cosine score are:\n",
      " [['4.900434532065509' 'How the Grinch Stole Christmas! (1966)']\n",
      " ['4.748453796931103' 'White Ribbon, The (Das weiße Band) (2009)']\n",
      " ['4.744437050535413' 'Unlawful Entry (1992)']\n",
      " ['4.669271058712822' 'Shooting Dogs (a.k.a. Beyond the Gates) (2005)']\n",
      " ['4.66886320100839' \"Dante's Peak (1997)\"]\n",
      " ['4.668602449814999' 'Breaking Away (1979)']\n",
      " ['4.665137929475486' 'Bats (1999)']\n",
      " ['4.631307477027291' 'Outside Providence (1999)']\n",
      " ['4.599330066681761' 'X2: X-Men United (2003)']\n",
      " ['4.593984040899091' 'Mirror Has Two Faces, The (1996)']]\n"
     ]
    }
   ],
   "source": [
    "def recommend(prefs,p,movies,sim):\n",
    "    if sim=='pearson':\n",
    "        sim_vector=[[i,sim_pearson(prefs,p,i)] for i in range(1,num_of_users) if i!=p]\n",
    "    elif sim=='cosine':\n",
    "        sim_vector=[[i,sim_cosine(prefs,p,i)] for i in range(1,num_of_users) if i!=p]\n",
    "    ans=[]\n",
    "    for movie in range(num_of_movies):\n",
    "        v1=[]\n",
    "        v2=[]\n",
    "        for elem in sim_vector:\n",
    "            person=elem[0]\n",
    "            if movie in prefs[person] and elem[1]>=0:\n",
    "                v1+=[elem[1]]\n",
    "                v2+=[prefs[person][movie]]\n",
    "        if sum(v1)==0 or len(v1)==1 or len(v1)==2 or movie in prefs[p]:      #removing the outliers\n",
    "            pred=0\n",
    "        else:\n",
    "        \n",
    "            pred=sum([v1[i]*v2[i] for i in range(len(v1))])/sum(v1)\n",
    "        ans+=[[pred,movies['title'][movie]]]\n",
    "    return np.array(sorted(ans)[::-1][:10])  \n",
    "        \n",
    "print('movies recommended for user 1 by pearson score are:\\n',recommend(rating_dic,1,movies,'pearson'))\n",
    "print(\"\\n\\n\")\n",
    "print('movies recommended for user 1 by cosine score are:\\n',recommend(rating_dic,1,movies,'cosine'))\n"
   ]
  },
  {
   "cell_type": "code",
   "execution_count": 7,
   "metadata": {},
   "outputs": [],
   "source": [
    "ans=[movies['title'][movie] for movie in rating_dic[1]]"
   ]
  },
  {
   "cell_type": "code",
   "execution_count": 9,
   "metadata": {},
   "outputs": [
    {
     "data": {
      "text/plain": [
       "False"
      ]
     },
     "execution_count": 9,
     "metadata": {},
     "output_type": "execute_result"
    }
   ],
   "source": [
    "'How the Grinch Stole Christmas! (1966)' in ans"
   ]
  },
  {
   "cell_type": "code",
   "execution_count": null,
   "metadata": {},
   "outputs": [],
   "source": []
  }
 ],
 "metadata": {
  "kernelspec": {
   "display_name": "Python 3",
   "language": "python",
   "name": "python3"
  },
  "language_info": {
   "codemirror_mode": {
    "name": "ipython",
    "version": 3
   },
   "file_extension": ".py",
   "mimetype": "text/x-python",
   "name": "python",
   "nbconvert_exporter": "python",
   "pygments_lexer": "ipython3",
   "version": "3.6.4"
  }
 },
 "nbformat": 4,
 "nbformat_minor": 2
}
